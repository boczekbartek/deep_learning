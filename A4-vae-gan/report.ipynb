{
 "cells": [
  {
   "cell_type": "code",
   "execution_count": 1,
   "metadata": {},
   "outputs": [
    {
     "name": "stderr",
     "output_type": "stream",
     "text": [
      "InceptionV3 Encoding: 100%|██████████| 625/625 [00:38<00:00, 16.29it/s]\n",
      "InceptionV3 Encoding: 100%|██████████| 625/625 [01:05<00:00,  9.55it/s]\n"
     ]
    },
    {
     "name": "stdout",
     "output_type": "stream",
     "text": [
      "Fid score for 100 samples: -142412.484375\n"
     ]
    }
   ],
   "source": [
    "from evaluate import evaluate_with_fid\n",
    "import torch\n",
    "\n",
    "model = torch.load(\"./vae-gauss-base_mnist_elbo/model.pt\")\n",
    "device = torch.device(\"cuda\")\n",
    "score = evaluate_with_fid(model, \"mnist-inceptionv3\", 16, device)\n",
    "print(f\"Fid score: {score}\")"
   ]
  },
  {
   "cell_type": "code",
   "execution_count": 2,
   "metadata": {},
   "outputs": [
    {
     "name": "stderr",
     "output_type": "stream",
     "text": [
      "InceptionV3 Encoding: 100%|██████████| 625/625 [00:41<00:00, 15.21it/s]\n",
      "InceptionV3 Encoding: 100%|██████████| 625/625 [01:08<00:00,  9.07it/s]\n"
     ]
    },
    {
     "name": "stdout",
     "output_type": "stream",
     "text": [
      "Fid score for 100 samples: -171069.75\n"
     ]
    }
   ],
   "source": [
    "model = torch.load(\"./vae-gauss-base_mnist_elbo_bad/model.pt\")\n",
    "score = evaluate_with_fid(model, \"mnist-inceptionv3\", 16, device)\n",
    "print(f\"Fid score: {score}\")"
   ]
  },
  {
   "cell_type": "code",
   "execution_count": null,
   "metadata": {},
   "outputs": [],
   "source": []
  }
 ],
 "metadata": {
  "interpreter": {
   "hash": "d010c97abd9745fcce68332eea479e1e2366d7017919eeaff07e44fa523a2959"
  },
  "kernelspec": {
   "display_name": "Python 3.9.7 64-bit ('dl': conda)",
   "language": "python",
   "name": "python3"
  },
  "language_info": {
   "codemirror_mode": {
    "name": "ipython",
    "version": 3
   },
   "file_extension": ".py",
   "mimetype": "text/x-python",
   "name": "python",
   "nbconvert_exporter": "python",
   "pygments_lexer": "ipython3",
   "version": "3.9.7"
  },
  "orig_nbformat": 4
 },
 "nbformat": 4,
 "nbformat_minor": 2
}
