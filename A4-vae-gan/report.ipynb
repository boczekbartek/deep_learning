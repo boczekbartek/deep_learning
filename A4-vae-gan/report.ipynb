{
 "cells": [
  {
   "cell_type": "code",
   "execution_count": 4,
   "metadata": {},
   "outputs": [],
   "source": [
    "import matplotlib.pyplot as plt\n",
    "import matplotlib.image as mpimg\n",
    "from evaluate import evaluate_with_fid\n",
    "import torch\n"
   ]
  },
  {
   "cell_type": "code",
   "execution_count": 1,
   "metadata": {},
   "outputs": [
    {
     "name": "stderr",
     "output_type": "stream",
     "text": [
      "InceptionV3 Encoding: 100%|██████████| 625/625 [00:41<00:00, 15.05it/s]\n",
      "InceptionV3 Encoding: 100%|██████████| 625/625 [01:11<00:00,  8.77it/s]\n"
     ]
    },
    {
     "name": "stdout",
     "output_type": "stream",
     "text": [
      "Fid score: 124.74994856702136\n"
     ]
    }
   ],
   "source": [
    "model = torch.load(\"./vae-gauss-base_mnist_elbo/model.pt\")\n",
    "device = torch.device(\"cuda\")\n",
    "score = evaluate_with_fid(model, \"mnist-inceptionv3\", 128, device)\n",
    "print(f\"Fid score: {score}\")\n",
    "img = mpimg.imread('vae-gauss-base_mnist_elbo/samples_30.png')\n",
    "imgplot = plt.imshow(img)\n",
    "plt.axis('off')\n",
    "plt.show()"
   ]
  },
  {
   "cell_type": "code",
   "execution_count": 2,
   "metadata": {},
   "outputs": [
    {
     "name": "stderr",
     "output_type": "stream",
     "text": [
      "InceptionV3 Encoding: 100%|██████████| 625/625 [00:41<00:00, 14.94it/s]\n",
      "InceptionV3 Encoding: 100%|██████████| 625/625 [01:01<00:00, 10.17it/s]\n"
     ]
    },
    {
     "name": "stdout",
     "output_type": "stream",
     "text": [
      "Fid score: 100.85614506377527\n"
     ]
    }
   ],
   "source": [
    "model = torch.load(\"./vae-realnvp-base-jt-4flows_mnist_elbo_flows/model.pt\")\n",
    "score = evaluate_with_fid(model, \"mnist-inceptionv3\", 128, device)\n",
    "print(f\"Fid score: {score}\")\n",
    "img = mpimg.imread('vae-realnvp-base-jt-4flows_mnist_elbo_flows/samples_30.png')\n",
    "imgplot = plt.imshow(img)\n",
    "plt.axis('off')\n",
    "plt.show()"
   ]
  },
  {
   "cell_type": "code",
   "execution_count": 8,
   "metadata": {},
   "outputs": [
    {
     "data": {
      "image/png": "[encoded data removed]",
      "text/plain": [
       "<Figure size 432x288 with 1 Axes>"
      ]
     },
     "metadata": {
      "needs_background": "light"
     },
     "output_type": "display_data"
    }
   ],
   "source": [
    "model = torch.load(\"./vae-gauss-base_svhn_elbo/model.pt\")\n",
    "device = torch.device(\"cuda\")\n",
    "score = evaluate_with_fid(model, \"mnist-inceptionv3\", 128, device)\n",
    "print(f\"Fid score: {score}\")\n",
    "img = mpimg.imread('vae-gauss-base_svhn_elbo/samples_30.png')\n",
    "imgplot = plt.imshow(img)\n",
    "plt.axis('off')\n",
    "plt.show()"
   ]
  },
  {
   "cell_type": "code",
   "execution_count": null,
   "metadata": {},
   "outputs": [],
   "source": [
    "model = torch.load(\"./vae-realnvp-base-jt-4flows_svhn_elbo_flows/model.pt\")\n",
    "device = torch.device(\"cuda\")\n",
    "score = evaluate_with_fid(model, \"mnist-inceptionv3\", 128, device)\n",
    "print(f\"Fid score: {score}\")\n",
    "img = mpimg.imread('vae-realnvp-base-jt-4flows_svhn_elbo_flows/samples_30.png')\n",
    "imgplot = plt.imshow(img)\n",
    "plt.axis('off')\n",
    "plt.show()"
   ]
  }
 ],
 "metadata": {
  "interpreter": {
   "hash": "d010c97abd9745fcce68332eea479e1e2366d7017919eeaff07e44fa523a2959"
  },
  "kernelspec": {
   "display_name": "Python 3.9.7 64-bit ('dl': conda)",
   "language": "python",
   "name": "python3"
  },
  "language_info": {
   "codemirror_mode": {
    "name": "ipython",
    "version": 3
   },
   "file_extension": ".py",
   "mimetype": "text/x-python",
   "name": "python",
   "nbconvert_exporter": "python",
   "pygments_lexer": "ipython3",
   "version": "3.9.7"
  },
  "orig_nbformat": 4
 },
 "nbformat": 4,
 "nbformat_minor": 2
}
