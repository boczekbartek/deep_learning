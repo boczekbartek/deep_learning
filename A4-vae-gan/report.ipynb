{
 "cells": [
  {
   "cell_type": "code",
   "execution_count": null,
   "metadata": {},
   "outputs": [],
   "source": [
    "from evaluate import evaluate_with_fid\n",
    "import torch\n",
    "\n",
    "model = torch.load(\"./vae-gauss_mnist_elbo/model.pt\")\n",
    "device = torch.device(\"cpu\")\n",
    "score = evaluate_with_fid(model, \"mnist-inceptionv3\", 100, device)\n",
    "print(f\"Fid score for {100} samples: {float(score)}\")"
   ]
  }
 ],
 "metadata": {
  "language_info": {
   "name": "python"
  },
  "orig_nbformat": 4
 },
 "nbformat": 4,
 "nbformat_minor": 2
}
