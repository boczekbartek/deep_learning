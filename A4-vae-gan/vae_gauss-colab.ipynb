{
 "cells": [
  {
   "cell_type": "code",
   "execution_count": null,
   "metadata": {},
   "outputs": [],
   "source": [
    "# Setup the directory\n",
    "from google.colab import drive\n",
    "drive.mount('/content/drive')\n",
    "import os\n",
    "\n",
    "from pathlib import Path\n",
    "ROOT=Path(\"/content/drive/MyDrive/VU/deep_learning/repo/deep_learning/A4-vae-gan\")\n",
    "os.chdir(ROOT)\n",
    "print(f'cdw = {os.getcwd()}')"
   ]
  },
  {
   "cell_type": "code",
   "execution_count": null,
   "metadata": {},
   "outputs": [],
   "source": [
    "import train\n",
    "\n",
    "train.train_vae_gauss(20, 128, \"mnist\", lr=1e-3, log_interval=50, cuda=True)\n",
    "train.train_vae_gauss(50, 64, \"svhn\", lr=1e-3, log_interval=50, cuda=True)\n"
   ]
  }
 ],
 "metadata": {
  "language_info": {
   "name": "python"
  },
  "orig_nbformat": 4
 },
 "nbformat": 4,
 "nbformat_minor": 2
}
